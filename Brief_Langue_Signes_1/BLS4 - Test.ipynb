{
 "cells": [
  {
   "cell_type": "markdown",
   "id": "buried-dividend",
   "metadata": {},
   "source": [
    "# Tester le modèle\n",
    "\n",
    "Importer les modules nécessaires :"
   ]
  },
  {
   "cell_type": "code",
   "execution_count": 1,
   "id": "satisfactory-mixer",
   "metadata": {},
   "outputs": [],
   "source": [
    "import numpy as np\n",
    "import cv2\n",
    "import keras\n",
    "from keras.preprocessing.image import ImageDataGenerator\n",
    "import tensorflow as tf"
   ]
  },
  {
   "cell_type": "markdown",
   "id": "significant-tuner",
   "metadata": {},
   "source": [
    "Charger le modèle :"
   ]
  },
  {
   "cell_type": "code",
   "execution_count": 2,
   "id": "stupid-parish",
   "metadata": {},
   "outputs": [],
   "source": [
    "model = keras.models.load_model(\"best_model_dataflair3.h5\")"
   ]
  },
  {
   "cell_type": "markdown",
   "id": "reserved-repair",
   "metadata": {},
   "source": [
    "Définir les variables pour la détection d'arrière-plan et de position du cadre de détection de main :"
   ]
  },
  {
   "cell_type": "code",
   "execution_count": 3,
   "id": "divided-diana",
   "metadata": {},
   "outputs": [],
   "source": [
    "background = None\n",
    "accumulated_weight = 0.5\n",
    "\n",
    "ROI_top = 100\n",
    "ROI_bottom = 300\n",
    "ROI_right = 150\n",
    "ROI_left = 350"
   ]
  },
  {
   "cell_type": "markdown",
   "id": "involved-promotion",
   "metadata": {},
   "source": [
    "Fonction de calcul d'image moyenne d'arrière-plan sur les premières secondes :"
   ]
  },
  {
   "cell_type": "code",
   "execution_count": 4,
   "id": "altered-prize",
   "metadata": {},
   "outputs": [],
   "source": [
    "def cal_accum_avg(frame, accumulated_weight):\n",
    "\n",
    "    global background\n",
    "    \n",
    "    if background is None:\n",
    "        background = frame.copy().astype(\"float\")\n",
    "        return None\n",
    "\n",
    "    cv2.accumulateWeighted(frame, background, accumulated_weight)"
   ]
  },
  {
   "cell_type": "markdown",
   "id": "constant-jimmy",
   "metadata": {},
   "source": [
    "Fonction de segmentation de la main avec contours, à partir de la caméra et de l'arrière-plan :"
   ]
  },
  {
   "cell_type": "code",
   "execution_count": 5,
   "id": "signed-catch",
   "metadata": {},
   "outputs": [],
   "source": [
    "def segment_hand(frame, threshold=25):\n",
    "    global background\n",
    "    \n",
    "    diff = cv2.absdiff(background.astype(\"uint8\"), frame)\n",
    "\n",
    "    \n",
    "    _ , thresholded = cv2.threshold(diff, threshold, 255, cv2.THRESH_BINARY)\n",
    "    \n",
    "    # Détecter les contours\n",
    "    contours, hierarchy = cv2.findContours(thresholded.copy(), cv2.RETR_EXTERNAL, cv2.CHAIN_APPROX_SIMPLE)\n",
    "\n",
    "    # si len(contours) == 0, alors aucun contour n'a été détecté\n",
    "    if len(contours) == 0:\n",
    "        return None\n",
    "    else:\n",
    "        # Le plus grand contour devrait être la main\n",
    "        hand_segment_max_cont = max(contours, key=cv2.contourArea)\n",
    "        \n",
    "        # Renvoyer le contour de main et sa version threshold\n",
    "        return (thresholded, hand_segment_max_cont)"
   ]
  },
  {
   "cell_type": "markdown",
   "id": "correct-accused",
   "metadata": {},
   "source": [
    "Créer un dictionnaire des valeurs (ici les lettres) sur les index obtenus à partir de ``argmax`` pour les plus grandes probabilités :"
   ]
  },
  {
   "cell_type": "code",
   "execution_count": 6,
   "id": "incident-steam",
   "metadata": {},
   "outputs": [],
   "source": [
    "word_dict = {0:'A',1:'B',2:'C',3:'D',4:'E',5:'F',6:'G',7:'H',8:'I',9:'J',10:'K',11:'L',12:'M',13:'N',14:'O',15:'P',16:'Q',17:'R',18:'S',19:'T',20:'U',21:'V',22:'W',23:'X',24:'Y',25:'Z'}"
   ]
  },
  {
   "cell_type": "markdown",
   "id": "baking-vacation",
   "metadata": {},
   "source": [
    "Tester avec la caméra :"
   ]
  },
  {
   "cell_type": "code",
   "execution_count": 8,
   "id": "viral-factor",
   "metadata": {},
   "outputs": [],
   "source": [
    "cam = cv2.VideoCapture(0)\n",
    "num_frames =0\n",
    "while True:\n",
    "    ret, frame = cam.read()\n",
    "\n",
    "    # Faire pivoter l'image\n",
    "    frame = cv2.flip(frame, 1)\n",
    "\n",
    "    frame_copy = frame.copy()\n",
    "\n",
    "    # Définir le cadre\n",
    "    roi = frame[ROI_top:ROI_bottom, ROI_right:ROI_left]\n",
    "\n",
    "    gray_frame = cv2.cvtColor(roi, cv2.COLOR_BGR2GRAY)\n",
    "    gray_frame = cv2.GaussianBlur(gray_frame, (9, 9), 0)\n",
    "\n",
    "\n",
    "    if num_frames < 70:\n",
    "        \n",
    "        cal_accum_avg(gray_frame, accumulated_weight)\n",
    "        \n",
    "        cv2.putText(frame_copy, \"FETCHING BACKGROUND...PLEASE WAIT\", (80, 400), cv2.FONT_HERSHEY_SIMPLEX, 0.9, (0,0,255), 2)\n",
    "    \n",
    "    else: \n",
    "        # Segmenter la main\n",
    "        hand = segment_hand(gray_frame)\n",
    "        \n",
    "\n",
    "        # Vérifier si l'on détecte la main\n",
    "        if hand is not None:\n",
    "            \n",
    "            thresholded, hand_segment = hand\n",
    "\n",
    "            # Dessiner les contours autour de la main\n",
    "            cv2.drawContours(frame_copy, [hand_segment + (ROI_right, ROI_top)], -1, (255, 0, 0),1)\n",
    "            \n",
    "            cv2.imshow(\"Threshold de la main\", thresholded)\n",
    "            \n",
    "            thresholded = cv2.resize(thresholded, (64, 64))\n",
    "            thresholded = cv2.cvtColor(thresholded, cv2.COLOR_GRAY2RGB)\n",
    "            thresholded = np.reshape(thresholded, (1,thresholded.shape[0],thresholded.shape[1],3))\n",
    "            \n",
    "            pred = model.predict(thresholded)\n",
    "            cv2.putText(frame_copy, word_dict[np.argmax(pred)], (170, 45), cv2.FONT_HERSHEY_SIMPLEX, 1, (0,0,255), 2)\n",
    "            \n",
    "    # Dessiner le cadre sur la copie\n",
    "    cv2.rectangle(frame_copy, (ROI_left, ROI_top), (ROI_right, ROI_bottom), (255,128,0), 3)\n",
    "\n",
    "    # Compte du nombre de frames\n",
    "    num_frames += 1\n",
    "\n",
    "    # Afficher la frame avec main segmentée\n",
    "    cv2.putText(frame_copy, \"Recognition de signe DataFlair\", (10, 20), cv2.FONT_ITALIC, 0.5, (51,255,51), 1)\n",
    "    cv2.imshow(\"Détection de signe\", frame_copy)\n",
    "\n",
    "\n",
    "    # Fermer avec ESCAPE\n",
    "    k = cv2.waitKey(1) & 0xFF\n",
    "\n",
    "    if k == 27:\n",
    "        break\n",
    "\n",
    "# Fermer la caméra et détruire les fenêtres\n",
    "cam.release()\n",
    "cv2.destroyAllWindows()\n"
   ]
  },
  {
   "cell_type": "markdown",
   "id": "polar-smart",
   "metadata": {},
   "source": [
    "## Conclusion\n",
    "\n",
    "Ce modèle basé sur les contours a un résultat respectable sur les images de test mais est bien plus inégal sur la prise webcam. Certaines lettres bien distinctes comme le L sont bien détectées, d'autres comme le R sont trop similaires à d'autres. La luminosité joue également un grand rôle et peut complètement fausser les résultats.\n",
    "\n",
    "Exemple avec A, là où les images ont été prises :\n",
    "\n",
    "![](image_A_1.png)"
   ]
  },
  {
   "cell_type": "markdown",
   "id": "located-effectiveness",
   "metadata": {},
   "source": [
    "Et dans des conditions de luminosité différentes :\n",
    "\n",
    "![](image_A_2.png)"
   ]
  },
  {
   "cell_type": "markdown",
   "id": "extra-situation",
   "metadata": {},
   "source": [
    "Ce problème pourrait peut-être être compensé avec un plus gros dataset issues de prises à la luminosité variée. Cependant, cette méthode par contours reste limitée pour détecter les positions plus subtiles de la main."
   ]
  }
 ],
 "metadata": {
  "kernelspec": {
   "display_name": "Python 3",
   "language": "python",
   "name": "python3"
  },
  "language_info": {
   "codemirror_mode": {
    "name": "ipython",
    "version": 3
   },
   "file_extension": ".py",
   "mimetype": "text/x-python",
   "name": "python",
   "nbconvert_exporter": "python",
   "pygments_lexer": "ipython3",
   "version": "3.8.8"
  }
 },
 "nbformat": 4,
 "nbformat_minor": 5
}
